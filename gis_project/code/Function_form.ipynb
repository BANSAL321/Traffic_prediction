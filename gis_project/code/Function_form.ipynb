{
 "cells": [
  {
   "cell_type": "code",
   "execution_count": 11,
   "metadata": {},
   "outputs": [
    {
     "name": "stdout",
     "output_type": "stream",
     "text": [
      "hello\n"
     ]
    }
   ],
   "source": [
    "# @ written by shubham bansal:\n",
    "import pandas as pd\n",
    "import  numpy as np\n",
    "import matplotlib.pyplot as plt\n",
    "from sklearn.cluster import DBSCAN\n",
    "#from geopy.distance import great_circle\n",
    "#import pygmaps\n",
    "from scipy.spatial import ConvexHull\n",
    "from datetime import datetime\n",
    "\n",
    "\n",
    "%matplotlib inline\n",
    "\n",
    "print('hello')\n"
   ]
  },
  {
   "cell_type": "code",
   "execution_count": null,
   "metadata": {
    "collapsed": true
   },
   "outputs": [],
   "source": []
  },
  {
   "cell_type": "code",
   "execution_count": 12,
   "metadata": {
    "collapsed": true
   },
   "outputs": [],
   "source": [
    "def Data_prepration(Data_frame, newfilename):\n",
    "                ### function defination \n",
    "                # data Given \n",
    "                #data_of_buses=pd.read_csv('/home/b/Desktop/Gis_project/Gis_project/data/356_EW/1july_356ew/150218661.csv')\n",
    "                data_of_buses=Data_frame.copy()\n",
    "                #print(data_of_buses.head())\n",
    "                # data extraction from data frame\n",
    "                #data_of_buses['Date'], data_of_buses['Time'] = data_of_buses['IST_DATE'].str.split(' ', 1).str\n",
    "                data_of_buses=data_of_buses.rename(index=str,columns={\"IST_TIME\": \"Time\"})\n",
    "              #  print(data_of_buses.head())\n",
    "                Cleaned_data=data_of_buses[['LAT','LONGITUDE','Time','Acc_distance']].copy()\n",
    "                Cleaned_data=Cleaned_data.sort_values('Time')\n",
    "                #print(data_of_buses.head())\n",
    "                #type(Cleaned_data)\n",
    "                #print(Cleaned_data.head())\n",
    "                Cleaned_data_array=Cleaned_data.as_matrix()\n",
    "                Cleaned_data_array\n",
    "                size=len(Cleaned_data_array)\n",
    "                size\n",
    "                Data_Train=pd.DataFrame(columns=['Start_Lat','Start_Longitude','Start_Time','End_Lat','End_Longitude','End_Time','Distance','Flag','Day_time'])\n",
    "                Data_Train\n",
    "\n",
    "                #time_x=00:00:00\n",
    "                S_lat=Cleaned_data_array[0][0]\n",
    "                S_long=Cleaned_data_array[0][1]\n",
    "                S_time=Cleaned_data_array[0][2]\n",
    "                \n",
    "                E_lat=Cleaned_data_array[0][0]\n",
    "                E_long=Cleaned_data_array[0][1]\n",
    "                E_time=Cleaned_data_array[0][2]\n",
    "                \n",
    "                Acc_start=Cleaned_data_array[0][3]\n",
    "                Acc_end=Cleaned_data_array[0][3]\n",
    "                FMT = '%H:%M:%S'\n",
    "                time_diff=0\n",
    "                flag=0\n",
    "                for i in range(1,size):\n",
    "                       # time1=(Cleaned_data_array[i][2])\n",
    "                        time2=(Cleaned_data_array[i][2])\n",
    "                        tdelta = abs(datetime.strptime(S_time, FMT) - datetime.strptime(time2, FMT))\n",
    "                        #print(tdelta)\n",
    "                        time_diff=tdelta.total_seconds()\n",
    "                       # print(time_diff)\n",
    "                       \n",
    "                        if time_diff>600 :\n",
    "                            Acc_end=Cleaned_data_array[i-1][3]\n",
    "                            E_time= Cleaned_data_array[i-1][2]\n",
    "                            E_lat=Cleaned_data_array[i-1][0]\n",
    "                            E_long=Cleaned_data_array[i-1][1]\n",
    "                            diff=Acc_end-Acc_start  \n",
    "                            #Actual_time_difference=E_time-S_time\n",
    "                            Actual_time_difference= datetime.strptime(E_time, FMT)-datetime.strptime(S_time, FMT) \n",
    "                         #   print(S_time,E_time)\n",
    "                            #print(Actual_time_difference)\n",
    "                            Actual_time_difference_total= Actual_time_difference.total_seconds()\n",
    "                           # print(Actual_time_difference_total)\n",
    "                            #print(\" helllo\")\n",
    "                            threshold_distance=(Actual_time_difference_total*(2.78))\n",
    "                            if  diff!=0:\n",
    "                                    if diff<threshold_distance :\n",
    "                                        leng=len(Data_Train)\n",
    "                                        if leng==0 :\n",
    "                                             # Day_time=(datetime.strptime(S_time, FMT)-datetime.strptime(time_x, FMT))\n",
    "                                             # Day_time_total=Day_time.total_seconds()\n",
    "                                              s=S_time\n",
    "                                              Total_day_time=sum(int(i) * 60**index for index, i in enumerate(s.split(\":\")[::-1])) \n",
    "                                            #  print(Total_day_time)\n",
    "                                              Data_Train=Data_Train.append({'Start_Lat':S_lat,'Start_Longitude':S_long,'Start_Time':S_time,'End_Lat':E_lat,'End_Longitude':E_long,'End_Time':E_time,'Distance':diff,'Flag':flag,'Day_time':Total_day_time},ignore_index=True)\n",
    "                                        else :\n",
    "                                           # print (leng)\n",
    "                                            #lat=(int)((Data_Train.iloc[leng-1][3])*1000000)\n",
    "                                          #  print (lat)\n",
    "                                           #long=(int)((Data_Train.iloc[leng-1][4])*1000000)\n",
    "                                            #if lat==(int)(S_lat*1000000) and long ==(int)(S_long*1000000) :\n",
    "                                           # if ((Data_Train.iloc[leng-1][5])==S_time)\n",
    "                                            if(True):\n",
    "                                                current_time=S_time\n",
    "                                                prvious_time=Data_Train.iloc[leng-1][5]\n",
    "                                                #print(current_time,prvious_time)\n",
    "                                                #Day_time=(datetime.strptime(Start_time, FMT)).total_seconds()\n",
    "                                                \n",
    "                                              #  Day_time=(datetime.strptime(S_time, FMT))\n",
    "                                               # Day_time_total=Day_time.total_seconds()\n",
    "                                                time_differ = (abs(datetime.strptime(current_time, FMT) - datetime.strptime(prvious_time, FMT))).total_seconds()\n",
    "                                                #(Data_Train.iloc[leng-1][5])\n",
    "                                                #print(current_time,prvious_time,time_differ)\n",
    "                                                if(time_differ<30):\n",
    "                                                    flag=flag+1\n",
    "                                                else:\n",
    "                                                    flag=0\n",
    "                                            s=S_time\n",
    "                                            Total_day_time=sum(int(i) * 60**index for index, i in enumerate(s.split(\":\")[::-1])) \n",
    "                                           # print(Total_day_time)\n",
    "                                            Data_Train=Data_Train.append({'Start_Lat':S_lat,'Start_Longitude':S_long,'Start_Time':S_time,'End_Lat':E_lat,'End_Longitude':E_long,'End_Time':E_time,'Distance':diff,'Flag':flag,'Day_time':Total_day_time},ignore_index=True)\n",
    "\n",
    "                            S_lat=Cleaned_data_array[i][0]\n",
    "                            S_long=Cleaned_data_array[i][1]\n",
    "                            S_time=Cleaned_data_array[i][2]\n",
    "                            Acc_start=Cleaned_data_array[i-1][3]\n",
    "                Data_Train.to_csv(newfilename,index=False)\n",
    "                return Data_Train\n",
    "\n",
    "            "
   ]
  },
  {
   "cell_type": "code",
   "execution_count": 13,
   "metadata": {
    "collapsed": true
   },
   "outputs": [],
   "source": [
    "def Load_file(filename, newfilename):\n",
    "    Data_Train=pd.read_csv(filename)\n",
    "    Data_Train_final=Data_prepration(Data_Train, newfilename)"
   ]
  },
  {
   "cell_type": "code",
   "execution_count": 14,
   "metadata": {},
   "outputs": [
    {
     "name": "stdout",
     "output_type": "stream",
     "text": [
      "356_EW_4july_150218661.csv\n",
      "356_EW_4july_150222706.csv\n",
      "356_EW_4july_150220682.csv\n",
      "356_EW_4july_150220615.csv\n",
      "356_EW_5july_150218661.csv\n",
      "356_EW_5july_150222706.csv\n",
      "356_EW_5july_150220682.csv\n",
      "356_EW_5july_150220615.csv\n",
      "356_EW_1july_150218661.csv\n",
      "356_EW_1july_150222706.csv\n",
      "356_EW_1july_150220682.csv\n",
      "356_EW_1july_150220615.csv\n"
     ]
    }
   ],
   "source": [
    "import os\n",
    "root = '/home/b/Desktop/Traffic_prediction/gis_project/Data_route_wise/356_EW'\n",
    "for subdir, dirnames, filenames in os.walk(root):\n",
    "    for filename in filenames:\n",
    "        if filename.endswith('-checkpoint.csv'):\n",
    "            continue\n",
    "#         print(subdir, filename)\n",
    "        folders = subdir.split(sep='/')\n",
    "        newfilename = folders[7]+'_'+folders[8]+'_'+filename\n",
    "      #  print(os.path.join(subdir,filename),newfilename)\n",
    "        print(newfilename)\n",
    "        Load_file(os.path.join(subdir,filename), newfilename)"
   ]
  },
  {
   "cell_type": "code",
   "execution_count": null,
   "metadata": {
    "collapsed": true
   },
   "outputs": [],
   "source": [
    "\n"
   ]
  },
  {
   "cell_type": "code",
   "execution_count": 5,
   "metadata": {
    "collapsed": true
   },
   "outputs": [],
   "source": [
    "#     Data_Train=pd.read_csv('/home/b/Desktop/Gis_project/Gis_project/data/356_EW/5july_356ew/150222706.csv')\n",
    "#     Data_Train_final=Data_prepration(Data_Train)"
   ]
  },
  {
   "cell_type": "code",
   "execution_count": 6,
   "metadata": {
    "collapsed": true
   },
   "outputs": [],
   "source": [
    "# def Data_prepration(Data_frame):\n",
    "#                 ### function defination \n",
    "#                 # data Given \n",
    "#                 #data_of_buses=pd.read_csv('/home/b/Desktop/Gis_project/Gis_project/data/356_EW/1july_356ew/150218661.csv')\n",
    "#                 data_of_buses=Data_frame.copy()\n",
    "#                 #print(data_of_buses.head())\n",
    "#                 # data extraction from data frame\n",
    "#                 #data_of_buses['Date'], data_of_buses['Time'] = data_of_buses['IST_DATE'].str.split(' ', 1).str\n",
    "#                 data_of_buses=data_of_buses.rename(index=str,columns={\"IST_TIME\": \"Time\"})\n",
    "#               #  print(data_of_buses.head())\n",
    "#                 Cleaned_data=data_of_buses[['LAT','LONGITUDE','Time','Acc_distance']].copy()\n",
    "#                 #type(Cleaned_data)\n",
    "#                 Cleaned_data.head()\n",
    "#                 Cleaned_data_array=Cleaned_data.as_matrix()\n",
    "#                 Cleaned_data_array\n",
    "#                 size=len(Cleaned_data_array)\n",
    "#                 size\n",
    "#                 Data_Train=pd.DataFrame(columns=['Start_Lat','Start_Longitude','Start_Time','End_Lat','End_Longitude','End_Time','Distance','Flag'])\n",
    "#                 Data_Train\n",
    "\n",
    "\n",
    "#                 S_lat=Cleaned_data_array[0][0]\n",
    "#                 S_long=Cleaned_data_array[0][1]\n",
    "#                 S_time=Cleaned_data_array[0][2]\n",
    "#                 E_lat=Cleaned_data_array[0][0]\n",
    "#                 E_long=Cleaned_data_array[0][1]\n",
    "#                 E_time=Cleaned_data_array[0][2]\n",
    "#                 Acc_start=Cleaned_data_array[0][3]\n",
    "#                 Acc_end=Cleaned_data_array[0][3]\n",
    "#                 FMT = '%H:%M:%S'\n",
    "#                 time_diff=0\n",
    "#                 flag=1\n",
    "#                 for i in range(1,size):\n",
    "#                        # time1=(Cleaned_data_array[i][2])\n",
    "#                         time2=(Cleaned_data_array[i][2])\n",
    "#                         tdelta = abs(datetime.strptime(S_time, FMT) - datetime.strptime(time2, FMT))\n",
    "#                         time_diff=tdelta.total_seconds()\n",
    "#                         if time_diff>600 :\n",
    "#                             Acc_end=Cleaned_data_array[i-1][3]\n",
    "#                             E_time= Cleaned_data_array[i-1][2]\n",
    "#                             E_lat=Cleaned_data_array[i-1][0]\n",
    "#                             E_long=Cleaned_data_array[i-1][1]\n",
    "#                             diff=Acc_end-Acc_start\n",
    "#                             if diff==0 :\n",
    "#                                 S_lat=Cleaned_data_array[i-1][0]\n",
    "#                                 S_long=Cleaned_data_array[i-1][1]\n",
    "#                                 S_time=Cleaned_data_array[i-1][2]\n",
    "#                                 Acc_start=Cleaned_data_array[i-1][3]\n",
    "#                             else :\n",
    "#                                     if diff<1667:\n",
    "#                                         leng=len(Data_Train)\n",
    "#                                         if leng==0 :\n",
    "#                                               Data_Train=Data_Train.append({'Start_Lat':S_lat,'Start_Longitude':S_long,'Start_Time':S_time,'End_Lat':E_lat,'End_Longitude':E_long,'End_Time':E_time,'Distance':diff,'Flag':flag},ignore_index=True)\n",
    "#                                         else :\n",
    "#                                            # print (leng)\n",
    "#                                             lat=(int)((Data_Train.iloc[leng-1][3])*1000000)\n",
    "#                                           #  print (lat)\n",
    "#                                             long=(int)((Data_Train.iloc[leng-1][4])*1000000)\n",
    "#                                             if lat==(int)(S_lat*1000000) and long ==(int)(S_long*1000000) :\n",
    "#                                                 flag=flag+1\n",
    "#                                             else:\n",
    "#                                                 flag=1\n",
    "#                                             Data_Train=Data_Train.append({'Start_Lat':S_lat,'Start_Longitude':S_long,'Start_Time':S_time,'End_Lat':E_lat,'End_Longitude':E_long,'End_Time':E_time,'Distance':diff,'Flag':flag},ignore_index=True)\n",
    "\n",
    "\n",
    "\n",
    "#                                     S_lat=Cleaned_data_array[i-1][0]\n",
    "#                                     S_long=Cleaned_data_array[i-1][1]\n",
    "#                                     S_time=Cleaned_data_array[i-1][2]\n",
    "#                                     Acc_start=Cleaned_data_array[i-1][3]\n",
    "#                 Data_Train.to_csv(\"Data_train_buses_5_150222706.csv\",index=False)\n",
    "#                 return Data_Train\n",
    "\n",
    "            "
   ]
  },
  {
   "cell_type": "code",
   "execution_count": null,
   "metadata": {
    "collapsed": true
   },
   "outputs": [],
   "source": []
  },
  {
   "cell_type": "code",
   "execution_count": null,
   "metadata": {
    "collapsed": true
   },
   "outputs": [],
   "source": []
  }
 ],
 "metadata": {
  "kernelspec": {
   "display_name": "Python 3",
   "language": "python",
   "name": "python3"
  },
  "language_info": {
   "codemirror_mode": {
    "name": "ipython",
    "version": 3
   },
   "file_extension": ".py",
   "mimetype": "text/x-python",
   "name": "python",
   "nbconvert_exporter": "python",
   "pygments_lexer": "ipython3",
   "version": "3.6.3"
  }
 },
 "nbformat": 4,
 "nbformat_minor": 2
}
