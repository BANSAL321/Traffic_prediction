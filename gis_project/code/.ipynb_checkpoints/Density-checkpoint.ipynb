{
 "cells": [
  {
   "cell_type": "code",
   "execution_count": 10,
   "metadata": {},
   "outputs": [],
   "source": [
    "import pandas as pd\n",
    "import  numpy as np\n",
    "import matplotlib.pyplot as plt\n",
    "from sklearn.cluster import DBSCAN\n",
    "#from geopy.distance import great_circle\n",
    "import pygmaps\n",
    "from scipy.spatial import ConvexHull\n",
    "from datetime import datetime\n",
    "\n",
    "\n",
    "\n",
    "  "
   ]
  },
  {
   "cell_type": "code",
   "execution_count": 11,
   "metadata": {},
   "outputs": [],
   "source": [
    "data_of_buses=pd.read_csv('/home/b/Desktop/Traffic_prediction/gis_project/data/356_EW/1july/150218661.csv')"
   ]
  },
  {
   "cell_type": "code",
   "execution_count": 12,
   "metadata": {},
   "outputs": [],
   "source": [
    "data_of_buses.head()\n",
    "data_of_buses_copy=data_of_buses.copy()"
   ]
  },
  {
   "cell_type": "code",
   "execution_count": 13,
   "metadata": {},
   "outputs": [
    {
     "data": {
      "text/html": [
       "<div>\n",
       "<style>\n",
       "    .dataframe thead tr:only-child th {\n",
       "        text-align: right;\n",
       "    }\n",
       "\n",
       "    .dataframe thead th {\n",
       "        text-align: left;\n",
       "    }\n",
       "\n",
       "    .dataframe tbody tr th {\n",
       "        vertical-align: top;\n",
       "    }\n",
       "</style>\n",
       "<table border=\"1\" class=\"dataframe\">\n",
       "  <thead>\n",
       "    <tr style=\"text-align: right;\">\n",
       "      <th></th>\n",
       "      <th>LAT</th>\n",
       "      <th>LONGITUDE</th>\n",
       "      <th>IST_TIME</th>\n",
       "      <th>Acc_distance</th>\n",
       "    </tr>\n",
       "  </thead>\n",
       "  <tbody>\n",
       "    <tr>\n",
       "      <th>0</th>\n",
       "      <td>12.924996</td>\n",
       "      <td>77.592804</td>\n",
       "      <td>00:22:22</td>\n",
       "      <td>12370232</td>\n",
       "    </tr>\n",
       "    <tr>\n",
       "      <th>1</th>\n",
       "      <td>12.924996</td>\n",
       "      <td>77.592804</td>\n",
       "      <td>00:52:15</td>\n",
       "      <td>12370232</td>\n",
       "    </tr>\n",
       "    <tr>\n",
       "      <th>2</th>\n",
       "      <td>12.924996</td>\n",
       "      <td>77.592804</td>\n",
       "      <td>01:22:08</td>\n",
       "      <td>12370232</td>\n",
       "    </tr>\n",
       "    <tr>\n",
       "      <th>3</th>\n",
       "      <td>12.924996</td>\n",
       "      <td>77.592804</td>\n",
       "      <td>01:52:01</td>\n",
       "      <td>12370232</td>\n",
       "    </tr>\n",
       "    <tr>\n",
       "      <th>4</th>\n",
       "      <td>12.925045</td>\n",
       "      <td>77.592834</td>\n",
       "      <td>02:29:45</td>\n",
       "      <td>12370232</td>\n",
       "    </tr>\n",
       "  </tbody>\n",
       "</table>\n",
       "</div>"
      ],
      "text/plain": [
       "         LAT  LONGITUDE  IST_TIME  Acc_distance\n",
       "0  12.924996  77.592804  00:22:22      12370232\n",
       "1  12.924996  77.592804  00:52:15      12370232\n",
       "2  12.924996  77.592804  01:22:08      12370232\n",
       "3  12.924996  77.592804  01:52:01      12370232\n",
       "4  12.925045  77.592834  02:29:45      12370232"
      ]
     },
     "execution_count": 13,
     "metadata": {},
     "output_type": "execute_result"
    }
   ],
   "source": [
    "#data_of_buses_copy['Date'], data_of_buses_copy['Time'] = data_of_buses_copy['IST_DATE'].str.split(' ', 1).str\n",
    "Cleaned_data=data_of_buses_copy[['LAT','LONGITUDE','IST_TIME','Acc_distance']].copy()\n",
    "(Cleaned_data).head()\n"
   ]
  },
  {
   "cell_type": "code",
   "execution_count": 14,
   "metadata": {},
   "outputs": [],
   "source": [
    "Cleaned_data_array=Cleaned_data.as_matrix()"
   ]
  },
  {
   "cell_type": "code",
   "execution_count": 15,
   "metadata": {},
   "outputs": [
    {
     "data": {
      "text/plain": [
       "3713"
      ]
     },
     "execution_count": 15,
     "metadata": {},
     "output_type": "execute_result"
    }
   ],
   "source": [
    "size=len(Cleaned_data)\n",
    "size"
   ]
  },
  {
   "cell_type": "code",
   "execution_count": 16,
   "metadata": {},
   "outputs": [],
   "source": [
    "Data_Train=pd.DataFrame(columns=['Start_Lat','Start_Longitude','End_Lat','End_Longitude','Start_Time','End_Time','Distance','Density_points','Flag'])\n"
   ]
  },
  {
   "cell_type": "code",
   "execution_count": 17,
   "metadata": {},
   "outputs": [
    {
     "data": {
      "text/html": [
       "<div>\n",
       "<style>\n",
       "    .dataframe thead tr:only-child th {\n",
       "        text-align: right;\n",
       "    }\n",
       "\n",
       "    .dataframe thead th {\n",
       "        text-align: left;\n",
       "    }\n",
       "\n",
       "    .dataframe tbody tr th {\n",
       "        vertical-align: top;\n",
       "    }\n",
       "</style>\n",
       "<table border=\"1\" class=\"dataframe\">\n",
       "  <thead>\n",
       "    <tr style=\"text-align: right;\">\n",
       "      <th></th>\n",
       "      <th>Start_Lat</th>\n",
       "      <th>Start_Longitude</th>\n",
       "      <th>End_Lat</th>\n",
       "      <th>End_Longitude</th>\n",
       "      <th>Start_Time</th>\n",
       "      <th>End_Time</th>\n",
       "      <th>Distance</th>\n",
       "      <th>Density_points</th>\n",
       "      <th>Flag</th>\n",
       "    </tr>\n",
       "  </thead>\n",
       "  <tbody>\n",
       "  </tbody>\n",
       "</table>\n",
       "</div>"
      ],
      "text/plain": [
       "Empty DataFrame\n",
       "Columns: [Start_Lat, Start_Longitude, End_Lat, End_Longitude, Start_Time, End_Time, Distance, Density_points, Flag]\n",
       "Index: []"
      ]
     },
     "execution_count": 17,
     "metadata": {},
     "output_type": "execute_result"
    }
   ],
   "source": [
    "Data_Train"
   ]
  },
  {
   "cell_type": "code",
   "execution_count": 9,
   "metadata": {},
   "outputs": [],
   "source": [
    "S_lat=Cleaned_data_array[0][0]\n",
    "S_long=Cleaned_data_array[0][1]\n",
    "S_time=Cleaned_data_array[0][2]\n",
    "E_lat=Cleaned_data_array[0][0]\n",
    "E_long=Cleaned_data_array[0][1]\n",
    "E_time=Cleaned_data_array[0][2]\n",
    "Acc_start=Cleaned_data_array[0][3]\n",
    "Acc_end=Cleaned_data_array[0][3]\n",
    "Flag=1\n",
    "Density_count=1\n"
   ]
  },
  {
   "cell_type": "code",
   "execution_count": null,
   "metadata": {},
   "outputs": [],
   "source": [
    "\n",
    "#Data_Train=pd.DataFrame(columns=['Start_Lat','Start_Longitude','Start_Time','End_Lat','End_Longitude','End_Time','Distance','Flag'])\n",
    "#print(Data_Train)\n",
    "\n",
    "\n",
    "FMT = '%H:%M:%S'\n",
    "time_diff=0\n",
    "flag=1\n",
    "for i in range(1,size):\n",
    "        Density_count=Density_count+1\n",
    "       # time1=(Cleaned_data_array[i][2])\n",
    "        time2=(Cleaned_data_array[i][2])\n",
    "        tdelta = abs(datetime.strptime(S_time, FMT) - datetime.strptime(time2, FMT))\n",
    "        time_diff=tdelta.total_seconds()\n",
    "        if time_diff>120 :\n",
    "            Acc_end=Cleaned_data_array[i-1][3]\n",
    "            E_time= Cleaned_data_array[i-1][2]\n",
    "            E_lat=Cleaned_data_array[i-1][0]\n",
    "            E_long=Cleaned_data_array[i-1][1]\n",
    "            diff=Acc_end-Acc_start\n",
    "            if diff==0 :\n",
    "                S_lat=Cleaned_data_array[i-1][0]\n",
    "                S_long=Cleaned_data_array[i-1][1]\n",
    "                S_time=Cleaned_data_array[i-1][2]\n",
    "                Acc_start=Cleaned_data_array[i-1][3]\n",
    "            else :\n",
    "                   \n",
    "                    if Density_count>7 :\n",
    "                        leng=len(Data_Train)\n",
    "                        if leng==0 :\n",
    "                              Data_Train=Data_Train.append({'Start_Lat':S_lat,'Start_Longitude':S_long,'Start_Time':S_time,'End_Lat':E_lat,'End_Longitude':E_long,'End_Time':E_time,'Distance':diff,'Flag':flag ,'Density':Density_count},ignore_index=True)\n",
    "                        else :\n",
    "                           # print (leng)\n",
    "                            lat=(int)((Data_Train.iloc[leng-1][3])*1000000)\n",
    "                          #  print (lat)\n",
    "                            long=(int)((Data_Train.iloc[leng-1][4])*1000000)\n",
    "                            if lat==(int)(S_lat*1000000) and long ==(int)(S_long*1000000) :\n",
    "                                flag=flag+1\n",
    "                            else:\n",
    "                                flag=1\n",
    "                            Data_Train=Data_Train.append({'Start_Lat':S_lat,'Start_Longitude':S_long,'Start_Time':S_time,'End_Lat':E_lat,'End_Longitude':E_long,'End_Time':E_time,'Distance':diff,'Flag':flag},ignore_index=True)\n",
    "                    \n",
    "                    \n",
    "                \n",
    "                            \n",
    "                        \n",
    "                    S_lat=Cleaned_data_array[i-1][0]\n",
    "                    S_long=Cleaned_data_array[i-1][1]\n",
    "                    S_time=Cleaned_data_array[i-1][2]\n",
    "                    Acc_start=Cleaned_data_array[i-1][3]\n",
    "\n",
    "          \n",
    "                \n",
    "            \n",
    "            \n",
    "                \n",
    "                \n",
    "            \n",
    "            \n",
    "    \n",
    "\n",
    "    \n",
    "    \n",
    "    \n",
    "     #Data_Train=Data_Train.append({'Start_Lat':S_lat,'Start_Longitude':S_long,'Start_Time':S_time,'End_Lat':E_lat,'End_Longitude':E_long,'End_Time':E_time},ignore_index=True)"
   ]
  },
  {
   "cell_type": "code",
   "execution_count": null,
   "metadata": {},
   "outputs": [],
   "source": []
  }
 ],
 "metadata": {
  "kernelspec": {
   "display_name": "Python 3",
   "language": "python",
   "name": "python3"
  },
  "language_info": {
   "codemirror_mode": {
    "name": "ipython",
    "version": 3
   },
   "file_extension": ".py",
   "mimetype": "text/x-python",
   "name": "python",
   "nbconvert_exporter": "python",
   "pygments_lexer": "ipython3",
   "version": "3.6.3"
  }
 },
 "nbformat": 4,
 "nbformat_minor": 2
}
