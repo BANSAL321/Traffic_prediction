{
 "cells": [
  {
   "cell_type": "code",
   "execution_count": 22,
   "metadata": {},
   "outputs": [],
   "source": [
    "# @ written by shubham bansal:\n",
    "import pandas as pd\n",
    "import  numpy as np\n",
    "import matplotlib.pyplot as plt\n",
    "from sklearn.cluster import DBSCAN\n",
    "from geopy.distance import great_circle\n",
    "import pygmaps\n",
    "from scipy.spatial import ConvexHull\n",
    "from datetime import datetime\n",
    "# @ written by shubham bansal:\n",
    "from haversine import haversine\n",
    "%matplotlib inline\n",
    "\n",
    "# print('heLlo')\n",
    "\n"
   ]
  },
  {
   "cell_type": "code",
   "execution_count": 23,
   "metadata": {},
   "outputs": [
    {
     "data": {
      "text/plain": [
       "4924"
      ]
     },
     "execution_count": 23,
     "metadata": {},
     "output_type": "execute_result"
    }
   ],
   "source": [
    "data=pd.read_csv('Data_july_1.csv')\n",
    "S_data=data.sort_values('IST_TIME')\n",
    "Data_array=S_data.as_matrix()\n",
    "data.columns\n",
    "Data_array.shape[0]\n",
    "\n",
    "\n",
    "# np.where(df[''].map(len) > df['b'].map(len), df['a'].map(len), df['b'].map(len))"
   ]
  },
  {
   "cell_type": "code",
   "execution_count": null,
   "metadata": {},
   "outputs": [],
   "source": []
  },
  {
   "cell_type": "code",
   "execution_count": 24,
   "metadata": {},
   "outputs": [],
   "source": [
    "S_lat=Data_array[0][1]\n",
    "S_long=Data_array[0][2]\n",
    "Start_Acc=Data_array[0][6]\n",
    "Time=Data_array[0][5]\n",
    "size=Data_array.shape[0]\n",
    "Data_Train=pd.DataFrame(columns=['Latitude','Longitude','Acc_distance','Time'])\n",
    "Data_Train=Data_Train.append({'Latitude':S_lat,'Longitude':S_long,'Acc_distance':Start_Acc,'Time':Time},ignore_index=True)\n"
   ]
  },
  {
   "cell_type": "markdown",
   "metadata": {},
   "source": [
    "## SLOT DIVISION\n"
   ]
  },
  {
   "cell_type": "code",
   "execution_count": 25,
   "metadata": {},
   "outputs": [],
   "source": [
    "\n",
    "\n",
    "for i in range(0,1127):\n",
    "    if abs(Start_Acc-Data_array[i][6]) >=100 :   \n",
    "         Start_Acc=Data_array[i][6]\n",
    "         Data_Train=Data_Train.append({'Latitude':Data_array[i][1],'Longitude':Data_array[i][2],'Acc_distance':Start_Acc,'Time':Data_array[i][5]},ignore_index=True)\n",
    "    else :\n",
    "        continue\n",
    "\n",
    "\n"
   ]
  },
  {
   "cell_type": "code",
   "execution_count": 38,
   "metadata": {},
   "outputs": [],
   "source": [
    "Data_Train.to_csv('Slot_file.csv',index=False)"
   ]
  },
  {
   "cell_type": "code",
   "execution_count": null,
   "metadata": {},
   "outputs": [],
   "source": []
  },
  {
   "cell_type": "code",
   "execution_count": 26,
   "metadata": {},
   "outputs": [],
   "source": [
    "Slot_Matrix=Data_Train.as_matrix()\n"
   ]
  },
  {
   "cell_type": "markdown",
   "metadata": {},
   "source": [
    "## Addition for Time in sec Column "
   ]
  },
  {
   "cell_type": "code",
   "execution_count": null,
   "metadata": {},
   "outputs": [],
   "source": []
  },
  {
   "cell_type": "code",
   "execution_count": 27,
   "metadata": {},
   "outputs": [],
   "source": [
    "# Data_making=pd.read_csv('150218661.csv')"
   ]
  },
  {
   "cell_type": "code",
   "execution_count": 28,
   "metadata": {},
   "outputs": [],
   "source": [
    "# Data_Treatment=Data_making[['LAT','LONGITUDE','IST_TIME','IST_DATE','SPEED_KMPH']].copy()\n",
    "# Data_Treatment=Data_Treatment.drop_duplicates(subset=['LAT','LONGITUDE'], inplace=False)\n",
    "# Data_Treatment['Time_in_sec'] = pd.Series(np.random.randn(Data_Treatment.shape[0]), index=Data_Treatment.index)"
   ]
  },
  {
   "cell_type": "code",
   "execution_count": null,
   "metadata": {},
   "outputs": [],
   "source": []
  },
  {
   "cell_type": "code",
   "execution_count": 29,
   "metadata": {},
   "outputs": [],
   "source": [
    "# Data_Treatment = Data_Treatment.as_matrix()\n",
    "# for i in range(0,Data_Treatment.shape[0]):\n",
    "#     s=Data_Treatment[i][2]\n",
    "#     Total_day_time=sum(int(i) * 60**index for index, i in enumerate(s.split(\":\")[::-1]))\n",
    "#     Data_Treatment[i][5]=Total_day_time\n",
    "    "
   ]
  },
  {
   "cell_type": "code",
   "execution_count": null,
   "metadata": {},
   "outputs": [],
   "source": []
  },
  {
   "cell_type": "code",
   "execution_count": null,
   "metadata": {},
   "outputs": [],
   "source": []
  },
  {
   "cell_type": "code",
   "execution_count": 30,
   "metadata": {},
   "outputs": [],
   "source": [
    "# Data_array_size=Data_Treatment.shape[0]\n",
    "# Slot_matrix_size=Slot_Matrix.shape[0]\n",
    "\n",
    "\n",
    "# count=np.zeros((Slot_matrix_size-1))\n",
    "# speed=np.zeros(Slot_matrix_size-1)\n",
    "# avg = np.zeros(Slot_matrix_size-1)"
   ]
  },
  {
   "cell_type": "code",
   "execution_count": 31,
   "metadata": {},
   "outputs": [],
   "source": [
    "# count"
   ]
  },
  {
   "cell_type": "code",
   "execution_count": 32,
   "metadata": {},
   "outputs": [],
   "source": [
    "# speed"
   ]
  },
  {
   "cell_type": "code",
   "execution_count": null,
   "metadata": {},
   "outputs": [],
   "source": []
  },
  {
   "cell_type": "code",
   "execution_count": null,
   "metadata": {},
   "outputs": [],
   "source": []
  },
  {
   "cell_type": "code",
   "execution_count": 33,
   "metadata": {},
   "outputs": [],
   "source": [
    "def data_processor(filename,newfilename):\n",
    "    \n",
    "#     Data_making=pd.read_csv(filename)\n",
    "    \n",
    "    Data_Treatment=filename[['LAT','LONGITUDE','IST_TIME','IST_DATE','SPEED_KMPH']].copy()\n",
    "    #print(Data_Treatment)\n",
    "    Data_Treatment=Data_Treatment.drop_duplicates(subset=['LAT','LONGITUDE'], inplace=False)\n",
    "    Data_Treatment['Time_in_sec'] = pd.Series(np.random.randn(Data_Treatment.shape[0]), index=Data_Treatment.index)\n",
    "\n",
    "    #appending columns for ml application later ->\n",
    "    Data_Treatment['Slot_number'] = pd.Series(np.random.randn(Data_Treatment.shape[0]), index=Data_Treatment.index)\n",
    "    \n",
    "    Data_Treatment = Data_Treatment.as_matrix()\n",
    "    \n",
    "    for i in range(0,Data_Treatment.shape[0]):\n",
    "        s=Data_Treatment[i][2]\n",
    "        Total_day_time=sum(int(i) * 60**index for index, i in enumerate(s.split(\":\")[::-1]))\n",
    "        Data_Treatment[i][5]=Total_day_time\n",
    "        Data_Treatment[i][6]=-1\n",
    "#     print(Data_Treatment)\n",
    "    \n",
    "    Data_array_size=Data_Treatment.shape[0]\n",
    "    Slot_matrix_size=Slot_Matrix.shape[0]\n",
    "    count=np.zeros((Slot_matrix_size-1))\n",
    "    speed=np.zeros(Slot_matrix_size-1)\n",
    "    avg = np.zeros(Slot_matrix_size-1)\n",
    "    \n",
    "    \n",
    "    for i in range(0,Data_array_size):\n",
    "    #     print(i)\n",
    "        for j in range(1,Slot_matrix_size):\n",
    "            flag_lat=0;\n",
    "            flag_long=0;\n",
    "    #         print(j)\n",
    "    #         print(Slot_Matrix[j-1,0], Data_Treatment[i,0],Slot_Matrix[j,0],Data_Treatment[i,0]-Slot_Matrix[j-1,0],Data_Treatment[i,0]-Slot_Matrix[j,0])\n",
    "    #         print(Slot_Matrix[j-1,1],Data_Treatment[i,1],Slot_Matrix[j,1],Data_Treatment[i,1]-Slot_Matrix[j-1,1],Data_Treatment[i,1]-Slot_Matrix[j,1])\n",
    "            x_lat=Data_Treatment[i,0]-Slot_Matrix[j-1,0]\n",
    "            y_lat=Data_Treatment[i,0]-Slot_Matrix[j,0]\n",
    "            x_long=Data_Treatment[i,1]-Slot_Matrix[j-1,1]\n",
    "            y_long=Data_Treatment[i,1]-Slot_Matrix[j,1]\n",
    "            if(x_lat>0):\n",
    "                if(y_lat<0):\n",
    "                    flag_lat=1\n",
    "    #                 print(\"lat opp mila\",x_lat,y_lat)\n",
    "            if(x_lat<0):\n",
    "                if(y_lat>0):\n",
    "                    flag_lat=1\n",
    "    #                 print(\"lat opp mila\",x_lat,y_lat)\n",
    "\n",
    "            if(x_long>0):\n",
    "                if(y_long<0):\n",
    "                    flag_long=1\n",
    "    #                 print(\"long opp mila\",x_long,y_long)\n",
    "\n",
    "            if(x_long<0):\n",
    "                if(y_long>0):\n",
    "                    flag_long=1\n",
    "    #                 print(\"long opp mila\",x_long,y_long)       \n",
    "\n",
    "    #         if ((((Data_Treatment[i][0]- Slot_Matrix[j][0])>0 and (Data_Treatment[i][0]-Slot_Matrix[j-1][0])<0) \\\n",
    "    #         or((Data_Treatment[i][0]-Slot_Matrix[j][0])<0 and (Data_Treatment[i][0]-Slot_Matrix[j-1][0])>0))\\\n",
    "    #         or\\\n",
    "    #         (((Data_Treatment[i][0]-Slot_Matrix[j][0])>0 and (Data_Treatment[i][1]-Slot_Matrix[j-1][1])<0)\\\n",
    "    #         or((Data_Treatment[i][0]-Slot_Matrix[j][0])<0 and (Data_Treatment[i][1]-Slot_Matrix[j-1][1])>0))\\\n",
    "    #            ):\n",
    "            #if((((Data_Treatment[i,0]-Slot_Matrix[j-1,0])>0 and (Data_Treatment[i,0]-Slot_Matrix[j,0])<0) or ((Data_Treatment[i,0]-Slot_Matrix[j-1,0])<0 and (Data_Treatment[i,0]-Slot_Matrix[j,0])>0)) or (((Data_Treatment[i,1]-Slot_Matrix[j-1,1])>0 and (Data_Treatment[i,1]-Slot_Matrix[j,1])<0) or ((Data_Treatment[i,1]-Slot_Matrix[j-1,1])<0 and (Data_Treatment[i,1]-Slot_Matrix[j,1])>0))):\n",
    "\n",
    "            if(flag_lat==1 or flag_long==1):\n",
    "                #print(\"*************************************************************************************************************************************\")\n",
    "                count[j-1]=count[j-1]+1.0\n",
    "                speed[j-1]=speed[j-1]+Data_Treatment[i][4]   \n",
    "                Data_Treatment[i][6] = j-1\n",
    "                break\n",
    "    \n",
    "    for i in range(0, Slot_matrix_size-1):\n",
    "        if(count[i]==0):\n",
    "            avg[i] = 0\n",
    "            continue\n",
    "        avg[i] = speed[i]/count[i]\n",
    "    \n",
    "#     print(count)\n",
    "#     print(speed)\n",
    "#     print(avg)\n",
    "    x=pd.DataFrame(Data_Treatment,columns=['LAT','LONGITUDE','IST_TIME','IST_DATE','SPEED_KMPH','Time_sec','Slot_no'])\n",
    "#     print(Data_Treatment)\n",
    "    x.to_csv(newfilename,index=False)\n",
    "\n",
    "    \n",
    "#     congestion_flag = np.zeros(Slot_matrix_size-1)\n",
    "    \n",
    "#     for i in range(0, Slot_matrix_size-1):\n",
    "#         if(avg[i]==0.0): \n",
    "#             congestion_flag[i] = 0 #no congestion\n",
    "#             continue\n",
    "#         if(avg[i]>=10.0):\n",
    "#             congestion_flag[i] = 1 #mild congestion\n",
    "#         if(avg[i] >= 5.0 and avg[i] <10.0):\n",
    "#             congestion_flag[i] = 2 #severe congestion\n",
    "#         if(avg[i] < 5.0):\n",
    "#             congestion_flag[i] = 3 #heavy congestion\n",
    "        \n",
    "#     print(congestion_flag)\n",
    "    "
   ]
  },
  {
   "cell_type": "code",
   "execution_count": 34,
   "metadata": {},
   "outputs": [],
   "source": [
    "# for i in range(0, Slot_matrix_size-1):\n",
    "#     if(count[i]==0):\n",
    "#         avg[i] = 0\n",
    "#         continue\n",
    "#     avg[i] = speed[i]/count[i]\n",
    "    \n",
    "\n",
    "# avg\n"
   ]
  },
  {
   "cell_type": "code",
   "execution_count": 35,
   "metadata": {},
   "outputs": [],
   "source": [
    "def Load_file(filename, newfilename):\n",
    "    Data_Train=pd.read_csv(filename)\n",
    "#     Data_Train_final=Data_prepration(Data_Train, newfilename)\n",
    "    Data_Train_final=data_processor(Data_Train, newfilename)"
   ]
  },
  {
   "cell_type": "code",
   "execution_count": 36,
   "metadata": {},
   "outputs": [
    {
     "name": "stdout",
     "output_type": "stream",
     "text": [
      "356_EW_6july_2016-07-06.csv\n",
      "356_EW_10july_2016-07-10.csv\n",
      "356_EW_8july_2016-07-08.csv\n",
      "356_EW_16july_2016-07-16.csv\n",
      "356_EW_15july_2016-07-15.csv\n",
      "356_EW_31july_2016-07-31.csv\n",
      "356_EW_17july_2016-07-17.csv\n",
      "356_EW_20july_2016-07-20.csv\n",
      "356_EW_4july_2016-07-04.csv\n",
      "356_EW_5july_2016-07-05.csv\n",
      "356_EW_29july_2016-07-29.csv\n",
      "356_EW_26july_2016-07-26.csv\n",
      "356_EW_18july_2016-07-18.csv\n",
      "356_EW_3july_2016-07-03.csv\n",
      "356_EW_25july_2016-07-25.csv\n",
      "356_EW_24july_2016-07-24.csv\n",
      "356_EW_21july_2016-07-21.csv\n",
      "356_EW_9july_2016-07-09.csv\n",
      "356_EW_12july_2016-07-12.csv\n",
      "356_EW_28july_2016-07-28.csv\n",
      "356_EW_27july_2016-07-27.csv\n",
      "356_EW_19july_2016-07-19.csv\n",
      "356_EW_1july_2016-07-01.csv\n",
      "356_EW_22july_2016-07-22.csv\n",
      "356_EW_14july_2016-07-14.csv\n",
      "356_EW_7july_2016-07-07.csv\n",
      "356_EW_30july_2016-07-30.csv\n",
      "356_EW_13july_2016-07-13.csv\n",
      "356_EW_11july_2016-07-11.csv\n",
      "356_EW_23july_2016-07-23.csv\n"
     ]
    }
   ],
   "source": [
    "import os\n",
    "root = '/home/b/Desktop/Traffic_prediction/gis_project/Data_route_wise/356_EW'\n",
    "for subdir, dirnames, filenames in os.walk(root):\n",
    "    for filename in filenames:\n",
    "        if  filename.startswith('2016'):#     print(subdir, filename)\n",
    "            folders = subdir.split(sep='/')\n",
    "            newfilename = folders[7]+'_'+folders[8]+'_'+filename\n",
    "      #  print(os.path.join(subdir,filename),newfilename)\n",
    "            print(newfilename)\n",
    "            Load_file(os.path.join(subdir,filename), newfilename)"
   ]
  },
  {
   "cell_type": "code",
   "execution_count": null,
   "metadata": {},
   "outputs": [],
   "source": []
  },
  {
   "cell_type": "code",
   "execution_count": null,
   "metadata": {},
   "outputs": [],
   "source": []
  },
  {
   "cell_type": "code",
   "execution_count": null,
   "metadata": {},
   "outputs": [],
   "source": []
  },
  {
   "cell_type": "code",
   "execution_count": null,
   "metadata": {},
   "outputs": [],
   "source": []
  },
  {
   "cell_type": "code",
   "execution_count": null,
   "metadata": {},
   "outputs": [],
   "source": []
  },
  {
   "cell_type": "code",
   "execution_count": null,
   "metadata": {},
   "outputs": [],
   "source": []
  },
  {
   "cell_type": "code",
   "execution_count": null,
   "metadata": {},
   "outputs": [],
   "source": []
  },
  {
   "cell_type": "code",
   "execution_count": null,
   "metadata": {},
   "outputs": [],
   "source": []
  },
  {
   "cell_type": "markdown",
   "metadata": {},
   "source": [
    "## Plotting the curve"
   ]
  },
  {
   "cell_type": "code",
   "execution_count": 31,
   "metadata": {},
   "outputs": [],
   "source": [
    "mymap_1_111=pygmaps.pygmaps(12.91735500,77.62260400,180)\n",
    "# data=pd.read_csv('Data_july_1.csv')\n",
    "# lat_long_time=data[['LAT','LONGITUDE','IST_TIME']].copy()\n",
    "# print(data_with_out.shape[0])\n",
    "# data_with_out_dupliacte = data_with_out.as_matrix(columns=['LAT','LONGITUDE','Time'])\n",
    "\n",
    "\n",
    "count=0\n",
    "\n",
    "for j in range(0,Slot_matrix_size):\n",
    "#        if( (data_with_out_dupliacte[j][2]>'07:00:00') and (data_with_out_dupliacte[j][2]<'08:30:00') ):\n",
    "          mymap_1_111.addpoint(Slot_Matrix[j][0],Slot_Matrix[j][1],\"#FF0000\")\n",
    "\n",
    "\n",
    "# for i  in range(0,19):     \n",
    "#     mymap_1_111.addpoint(Data_Treatment[i][0],Data_Treatment[i][1],\"#00ffff\")\n",
    "\n",
    "\n",
    "\n",
    "\n",
    "# mymap_1_111.addpoint(Data_Treatment[13][0],Data_Treatment[13][1],)\n",
    "# mymap_1_111.addpoint(Data_Treatment[13][0],Data_Treatment[13][1],)\n",
    "# mymap_1_111.addpoint(Data_Treatment[13][0],Data_Treatment[13][1],)\n",
    "\n",
    "\n",
    "\n",
    "\n",
    "\n",
    "mymap_1_111.draw('a.html')\n",
    "\n",
    "\n",
    "\n",
    "\n",
    "\n",
    "\n",
    "\n",
    "\n",
    "\n",
    "\n",
    "\n",
    "\n",
    "\n",
    "\n",
    "\n",
    "\n",
    "\n",
    "\n",
    "\n"
   ]
  },
  {
   "cell_type": "code",
   "execution_count": null,
   "metadata": {},
   "outputs": [],
   "source": []
  },
  {
   "cell_type": "code",
   "execution_count": 4,
   "metadata": {},
   "outputs": [
    {
     "data": {
      "text/plain": [
       "11.99179996235805"
      ]
     },
     "execution_count": 4,
     "metadata": {},
     "output_type": "execute_result"
    }
   ],
   "source": []
  },
  {
   "cell_type": "code",
   "execution_count": null,
   "metadata": {},
   "outputs": [],
   "source": []
  },
  {
   "cell_type": "code",
   "execution_count": null,
   "metadata": {},
   "outputs": [],
   "source": []
  },
  {
   "cell_type": "code",
   "execution_count": null,
   "metadata": {},
   "outputs": [],
   "source": []
  },
  {
   "cell_type": "code",
   "execution_count": null,
   "metadata": {},
   "outputs": [],
   "source": []
  },
  {
   "cell_type": "code",
   "execution_count": null,
   "metadata": {},
   "outputs": [],
   "source": []
  },
  {
   "cell_type": "code",
   "execution_count": null,
   "metadata": {},
   "outputs": [],
   "source": []
  },
  {
   "cell_type": "code",
   "execution_count": null,
   "metadata": {},
   "outputs": [],
   "source": []
  },
  {
   "cell_type": "code",
   "execution_count": null,
   "metadata": {},
   "outputs": [],
   "source": []
  },
  {
   "cell_type": "code",
   "execution_count": null,
   "metadata": {},
   "outputs": [],
   "source": [
    "import os\n",
    "root = '/home/b/Desktop/Traffic_prediction/gis_project/Data_route_wise/356_EW/1july'\n",
    "for subdir, dirnames, filenames in os.walk(root):\n",
    "    for filename in filenames:\n",
    "        if filename.endswith('-checkpoint.csv') or filename.startswith('2016'):\n",
    "            continue\n",
    "#         print(subdir, filename)\n",
    "        folders = subdir.split(sep='/')\n",
    "        newfilename = folders[7]+'_'+folders[8]+'_'+filename\n",
    "      #  print(os.path.join(subdir,filename),newfilename)\n",
    "        print(newfilename)\n",
    "        Load_file(os.path.join(subdir,filename), newfilename)"
   ]
  }
 ],
 "metadata": {
  "kernelspec": {
   "display_name": "Python 3",
   "language": "python",
   "name": "python3"
  },
  "language_info": {
   "codemirror_mode": {
    "name": "ipython",
    "version": 3
   },
   "file_extension": ".py",
   "mimetype": "text/x-python",
   "name": "python",
   "nbconvert_exporter": "python",
   "pygments_lexer": "ipython3",
   "version": "3.6.3"
  }
 },
 "nbformat": 4,
 "nbformat_minor": 2
}
