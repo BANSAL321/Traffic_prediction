{
 "cells": [
  {
   "cell_type": "code",
   "execution_count": 3,
   "metadata": {},
   "outputs": [
    {
     "name": "stdout",
     "output_type": "stream",
     "text": [
      "heLlo\n"
     ]
    }
   ],
   "source": [
    "# @ written by shubham bansal:\n",
    "import pandas as pd\n",
    "import  numpy as np\n",
    "import matplotlib.pyplot as plt\n",
    "from sklearn.cluster import DBSCAN\n",
    "from geopy.distance import great_circle\n",
    "import pygmaps\n",
    "from scipy.spatial import ConvexHull\n",
    "from datetime import datetime\n",
    "\n",
    "\n",
    "%matplotlib inline\n",
    "\n",
    "print('heLlo')\n"
   ]
  },
  {
   "cell_type": "code",
   "execution_count": null,
   "metadata": {},
   "outputs": [],
   "source": [
    "from glob import glob\n",
    "\n",
    "with open('main.csv', 'a') as singleFile:\n",
    "    for csv in glob('*.csv'):\n",
    "        if csv == 'main.csv':\n",
    "            pass\n",
    "        else:\n",
    "            for line in open(csv, 'r'):\n",
    "                singleFile.write(line)\n",
    "\n",
    "# to write the code for sorting the main.csv and saving it as main.csv itself"
   ]
  },
  {
   "cell_type": "code",
   "execution_count": null,
   "metadata": {},
   "outputs": [],
   "source": [
    "user_input_time = input()\n",
    "# print(data_file)\n",
    "\n",
    "date_time_first=sum(int(i) * 60**index for index, i in enumerate(user_input_time.split(\":\")[::-1]))\n",
    "# print(Total_day_time)\n",
    "\n",
    "date_time_second = date_time_first + 1800\n",
    "\n",
    "dataset_file = pd.read_csv(\"main.csv\")\n",
    "\n",
    "type(dataset_file)\n",
    "\n",
    "date_time_first = int(date_time_first)\n",
    "date_time_second = int(date_time_second)\n",
    "\n",
    "print(date_time_first, date_time_second)\n",
    "dataset_file.head()\n"
   ]
  },
  {
   "cell_type": "code",
   "execution_count": null,
   "metadata": {},
   "outputs": [],
   "source": [
    "\n",
    "# output = [(lambda x: 1 if x % 2 == 0 else 0)(x) for x in [1,2,3,4]]"
   ]
  },
  {
   "cell_type": "code",
   "execution_count": null,
   "metadata": {},
   "outputs": [],
   "source": [
    "Dataset_for_input = pd.DataFrame(columns=['LAT','LONGITUDE','IST_TIME','IST_DATE','SPEED_KMPH','Time_sec','Slot_no'])\n",
    "\n",
    "for i in range(0, dataset_file.shape[0]):\n",
    "    row_time = int(dataset_file.iloc[i,5])\n",
    "    if((row_time <= date_time_second) and (row_time >= date_time_first)):\n",
    "        Dataset_for_input=Dataset_for_input.append({'LAT':dataset_file.iloc[i,0],\\\n",
    "                                                    'LONGITUDE':dataset_file.iloc[i,1],\\\n",
    "                                                    'IST_TIME':dataset_file.iloc[i,2],\\\n",
    "                                                    'IST_DATE':dataset_file.iloc[i,3],\\\n",
    "                                                    'SPEED_KMPH':dataset_file.iloc[i,4],\\\n",
    "                                                    'Time_sec':dataset_file.iloc[i,5],\\\n",
    "                                                    'Slot_no':dataset_file.iloc[i,6]},ignore_index=True)\n",
    "        \n",
    "print(Dataset_for_input)\n",
    "\n",
    "\n"
   ]
  },
  {
   "cell_type": "code",
   "execution_count": 168,
   "metadata": {},
   "outputs": [
    {
     "data": {
      "text/plain": [
       "101"
      ]
     },
     "execution_count": 168,
     "metadata": {},
     "output_type": "execute_result"
    }
   ],
   "source": [
    "Simplified_data_frame = Dataset_for_input[['SPEED_KMPH','Slot_no']].copy()\n",
    "np.array(Simplified_data_frame.Slot_no.unique()).size\n",
    "\n",
    "\n"
   ]
  },
  {
   "cell_type": "code",
   "execution_count": 20,
   "metadata": {},
   "outputs": [],
   "source": [
    "# for i in range(Simplified_data_frame.shape[0]):\n",
    "#     Simplified_data_frame.iloc[i,0] = int(Simplified_data_frame.iloc[i][0])\n",
    "#     Simplified_data_frame.iloc[i,1] = int(Simplified_data_frame.iloc[i][1])"
   ]
  },
  {
   "cell_type": "code",
   "execution_count": 31,
   "metadata": {},
   "outputs": [],
   "source": [
    "\n",
    "# type(Simplified_data_frame.iloc[100,0])\n",
    "\n",
    "# a = (Simplified_data_frame.groupby('Slot_no', as_index=False).mean())"
   ]
  },
  {
   "cell_type": "code",
   "execution_count": null,
   "metadata": {},
   "outputs": [],
   "source": [
    "Simplified_data_frame."
   ]
  },
  {
   "cell_type": "code",
   "execution_count": null,
   "metadata": {},
   "outputs": [],
   "source": [
    "x=Simplified_data_frame.groupby(['Slot_no']).apply(lambda x: np.mean(x))\n",
    "x.shape[0]"
   ]
  },
  {
   "cell_type": "code",
   "execution_count": null,
   "metadata": {},
   "outputs": [],
   "source": [
    "x=x.as_matrix()"
   ]
  },
  {
   "cell_type": "code",
   "execution_count": null,
   "metadata": {},
   "outputs": [],
   "source": [
    "x"
   ]
  },
  {
   "cell_type": "code",
   "execution_count": null,
   "metadata": {},
   "outputs": [],
   "source": [
    "Slots=pd.read_csv('/home/b/Desktop/Traffic_prediction/gis_project/code/Slot_file.csv')\n",
    "Slots.head()"
   ]
  },
  {
   "cell_type": "code",
   "execution_count": null,
   "metadata": {},
   "outputs": [],
   "source": [
    "Slots_matrix=Slots.as_matrix()"
   ]
  },
  {
   "cell_type": "code",
   "execution_count": null,
   "metadata": {},
   "outputs": [],
   "source": [
    "Slots_matrix.shape[0]\n"
   ]
  },
  {
   "cell_type": "code",
   "execution_count": null,
   "metadata": {},
   "outputs": [],
   "source": [
    "arr=np.zeros(2*(Slots_matrix.shape[0]-1))\n",
    "# for i in range(0, x.shape[0]):\n",
    "#     if x[i][1]\n",
    "arr = arr.reshape(Slots_matrix.shape[0]-1, 2)\n",
    "print(arr.shape)\n",
    "#print(arr)\n",
    "# j=2;\n",
    "\n",
    "# for i in range(0, arr.shape[0]):\n",
    "#     print(i,x[j][1])\n",
    "#     if (int(x[j][1])==i):\n",
    "#          arr[i][0]=x[i][0]\n",
    "#          arr[i][1]=x[i][1]\n",
    "#          j=j+1\n",
    "#     else :\n",
    "#          arr[i][0]=0.0\n",
    "#          arr[i][1]=i    \n",
    "    \n",
    "#print(arr)\n",
    "\n",
    "list = []\n",
    "\n",
    "for i in range(0, x.shape[0]):\n",
    "    list.append(x[i,1])\n",
    "#print(list)\n",
    "j=1\n",
    "for i in list:\n",
    "    i = int(i)\n",
    "    #print(i)\n",
    "    if(i==-1):\n",
    "        continue\n",
    "    arr[i,0] = x[j,0]\n",
    "    arr[i,1] = x[j,1]\n",
    "    j=j+1\n",
    "\n",
    "for i in range(0, arr.shape[0]):\n",
    "    if(arr[i,1]==0):\n",
    "        arr[i,1] = i\n",
    "\n",
    "for i in range(0, arr.shape[0]):\n",
    "    if(arr[i,0]==0.0): \n",
    "        \n",
    "    if(avg[i]>=10.0):\n",
    "        congestion_flag[i] = 1 #mild congestion\n",
    "    if(avg[i] >= 5.0 and avg[i] <10.0):\n",
    "        congestion_flag[i] = 2 #severe congestion\n",
    "    if(avg[i] < 5.0):\n",
    "        congestion_flag[i] = 3 #heavy congestion  "
   ]
  },
  {
   "cell_type": "code",
   "execution_count": null,
   "metadata": {},
   "outputs": [],
   "source": [
    "mymap_1_111=pygmaps.pygmaps(12.91735500,77.62260400,180)\n",
    "\n"
   ]
  },
  {
   "cell_type": "code",
   "execution_count": null,
   "metadata": {},
   "outputs": [],
   "source": [
    "Slots_matrix.shape[0]\n",
    "arr.shape[0]\n",
    "for i in range(0, Slots_matrix.shape[0]-1):\n",
    "#     path = data[:, :2]\n",
    "    if arr[i][0]>0.0 and arr[i][0]<5.0 :\n",
    "        mymap_1_111.addpoint(Slots_matrix[i][0],Slots_matrix[i][1], \"#FF0000\")\n",
    "    elif arr[i][0]>=5.0 and arr[i][0]<10.0 :\n",
    "        mymap_1_111.addpoint(Slots_matrix[i][0],Slots_matrix[i][1], \"#ffff00\")\n",
    "    elif arr[i][0]>=10.0 and arr[i][0]<=20.0 :\n",
    "        mymap_1_111.addpoint(Slots_matrix[i][0],Slots_matrix[i][1], \"#00FFFF\")\n",
    "    else:\n",
    "        mymap_1_111.addpoint(Slots_matrix[i][0],Slots_matrix[i][1], \"#FFFFFF\")\n",
    "\n",
    "mymap_1_111.draw('x.html')"
   ]
  },
  {
   "cell_type": "code",
   "execution_count": null,
   "metadata": {},
   "outputs": [],
   "source": [
    "import numpy as np\n",
    "import pygmaps\n",
    "\n",
    "data = np.loadtxt(\"cubesat.csv\", delimiter=\",\")\n",
    "\n",
    "path = data[:, :2]\n",
    "data_rate = data[:, -1]\n",
    "\n",
    "gmap = pygmaps.gmap(41, -88, zoom=2)\n",
    "gmap.add_weighted_path(path, data_rate)\n",
    "gmap.draw(\"example.html\")"
   ]
  },
  {
   "cell_type": "code",
   "execution_count": null,
   "metadata": {},
   "outputs": [],
   "source": []
  },
  {
   "cell_type": "code",
   "execution_count": null,
   "metadata": {},
   "outputs": [],
   "source": [
    "mymap_1_111=pygmaps.pygmaps(12.91735500,77.62260400,180)\n",
    "\n",
    "Slots_matrix.shape[0]\n",
    "arr.shape[0]\n",
    "for i in range(0, Slots_matrix.shape[0]-1):\n",
    "    path = Slots_matrix[i:i+2, :2]\n",
    "    start_lat = path[0,0]\n",
    "    end_lat = path[1,0]\n",
    "    start_long = path[0,1]\n",
    "    end_long = path[1,1]\n",
    "    a = (start_lat, start_long)\n",
    "    b = (end_lat, end_long)\n",
    "    c = [a,b]\n",
    "    path = c\n",
    "    mymap_1_111\n",
    "    if arr[i][0]>0.0 and arr[i][0]<5.0 :\n",
    "        mymap_1_111.addpath(path, \"#FF0000\")\n",
    "    elif arr[i][0]>=5.0 and arr[i][0]<10.0 :\n",
    "        mymap_1_111.addpath(path, \"#ffff00\")\n",
    "    elif arr[i][0]>=10.0 and arr[i][0]<=20.0 :\n",
    "        mymap_1_111.addpath(path, \"#00FFFF\")\n",
    "    else:\n",
    "        mymap_1_111.addpath(path ,\"#FFFFFF\")\n",
    "\n",
    "mymap_1_111.draw('raviBhai.html')"
   ]
  },
  {
   "cell_type": "code",
   "execution_count": null,
   "metadata": {},
   "outputs": [],
   "source": []
  },
  {
   "cell_type": "code",
   "execution_count": null,
   "metadata": {},
   "outputs": [],
   "source": []
  },
  {
   "cell_type": "code",
   "execution_count": null,
   "metadata": {},
   "outputs": [],
   "source": []
  },
  {
   "cell_type": "code",
   "execution_count": null,
   "metadata": {},
   "outputs": [],
   "source": [
    "Slots_matrix.shape[0]\n",
    "arr.shape[0]\n",
    "for i in range(0, Slots_matrix.shape[0]-1):\n",
    "    path = Slots_matrix[i:i+2, :2]\n",
    "    start_lat = path[0,0]\n",
    "    end_lat = path[1,0]\n",
    "    start_long = path[0,1]\n",
    "    end_long = path[1,1]\n",
    "    a = (start_lat, start_long)\n",
    "    b = (end_lat, end_long)\n",
    "    c = [a,b]\n",
    "    path = c\n",
    "    mymap_1_111\n",
    "    if arr[i][0]>0.0 and arr[i][0]<5.0 :\n",
    "        mymap_1_111.addpath(path, \"#FF0000\")\n",
    "    elif arr[i][0]>=5.0 and arr[i][0]<10.0 :\n",
    "        mymap_1_111.addpath(path, \"#ffff00\")\n",
    "    elif arr[i][0]>=10.0 and arr[i][0]<=20.0 :\n",
    "        mymap_1_111.addpath(path, \"#00FFFF\")\n",
    "    else:\n",
    "        mymap_1_111.addpath(path ,\"#FFFFFF\")\n",
    "\n",
    "mymap_1_111.draw('raviBhai.html')"
   ]
  },
  {
   "cell_type": "code",
   "execution_count": null,
   "metadata": {},
   "outputs": [],
   "source": [
    "###i m tring with gmaps"
   ]
  },
  {
   "cell_type": "code",
   "execution_count": 2,
   "metadata": {},
   "outputs": [
    {
     "ename": "NameError",
     "evalue": "name 'Slots_matrix' is not defined",
     "output_type": "error",
     "traceback": [
      "\u001b[0;31m---------------------------------------------------------------------------\u001b[0m",
      "\u001b[0;31mNameError\u001b[0m                                 Traceback (most recent call last)",
      "\u001b[0;32m<ipython-input-2-42dca6a4dfc3>\u001b[0m in \u001b[0;36m<module>\u001b[0;34m()\u001b[0m\n\u001b[1;32m      2\u001b[0m \u001b[0;31m# Place map\u001b[0m\u001b[0;34m\u001b[0m\u001b[0;34m\u001b[0m\u001b[0m\n\u001b[1;32m      3\u001b[0m \u001b[0mmymap_1_111\u001b[0m \u001b[0;34m=\u001b[0m \u001b[0mgmplot\u001b[0m\u001b[0;34m.\u001b[0m\u001b[0mGoogleMapPlotter\u001b[0m\u001b[0;34m(\u001b[0m\u001b[0;36m12.91735500\u001b[0m\u001b[0;34m,\u001b[0m\u001b[0;36m77.62260400\u001b[0m\u001b[0;34m,\u001b[0m\u001b[0;36m180\u001b[0m\u001b[0;34m)\u001b[0m\u001b[0;34m\u001b[0m\u001b[0m\n\u001b[0;32m----> 4\u001b[0;31m \u001b[0mSlots_matrix\u001b[0m\u001b[0;34m.\u001b[0m\u001b[0mshape\u001b[0m\u001b[0;34m[\u001b[0m\u001b[0;36m0\u001b[0m\u001b[0;34m]\u001b[0m\u001b[0;34m\u001b[0m\u001b[0m\n\u001b[0m\u001b[1;32m      5\u001b[0m \u001b[0marr\u001b[0m\u001b[0;34m.\u001b[0m\u001b[0mshape\u001b[0m\u001b[0;34m[\u001b[0m\u001b[0;36m0\u001b[0m\u001b[0;34m]\u001b[0m\u001b[0;34m\u001b[0m\u001b[0m\n\u001b[1;32m      6\u001b[0m \u001b[0;32mfor\u001b[0m \u001b[0mi\u001b[0m \u001b[0;32min\u001b[0m \u001b[0mrange\u001b[0m\u001b[0;34m(\u001b[0m\u001b[0;36m0\u001b[0m\u001b[0;34m,\u001b[0m \u001b[0mSlots_matrix\u001b[0m\u001b[0;34m.\u001b[0m\u001b[0mshape\u001b[0m\u001b[0;34m[\u001b[0m\u001b[0;36m0\u001b[0m\u001b[0;34m]\u001b[0m\u001b[0;34m-\u001b[0m\u001b[0;36m1\u001b[0m\u001b[0;34m)\u001b[0m\u001b[0;34m:\u001b[0m\u001b[0;34m\u001b[0m\u001b[0m\n",
      "\u001b[0;31mNameError\u001b[0m: name 'Slots_matrix' is not defined"
     ]
    }
   ],
   "source": [
    "from gmplot import gmplot\n",
    "# Place map\n",
    "mymap_1_111 = gmplot.GoogleMapPlotter(12.91735500,77.62260400,180)\n",
    "Slots_matrix.shape[0]\n",
    "arr.shape[0]\n",
    "for i in range(0, Slots_matrix.shape[0]-1):\n",
    "    path = Slots_matrix[i:i+2, :2]\n",
    "    start_lat = path[0,0]\n",
    "    end_lat = path[1,0]\n",
    "    start_long = path[0,1]\n",
    "    end_long = path[1,1]\n",
    "    a = (start_lat, start_long)\n",
    "    b = (end_lat, end_long)\n",
    "    c = [a,b]\n",
    "    path = c\n",
    "    mymap_1_111\n",
    "    golden_gate_park_lats, golden_gate_park_lons = zip(*[\n",
    "    (start_lat,start_long),\n",
    "    (start_lat, end_long),\n",
    "    ])\n",
    "mymap_1_111.plot(golden_gate_park_lats, golden_gate_park_lons, 'cornflowerblue', edge_width=10)\n",
    "mymap_1_111.draw(ourprojectgooglemap.html)\n"
   ]
  },
  {
   "cell_type": "code",
   "execution_count": 1,
   "metadata": {},
   "outputs": [],
   "source": [
    "from gmplot import gmplot"
   ]
  },
  {
   "cell_type": "code",
   "execution_count": null,
   "metadata": {},
   "outputs": [],
   "source": []
  }
 ],
 "metadata": {
  "kernelspec": {
   "display_name": "Python 3",
   "language": "python",
   "name": "python3"
  },
  "language_info": {
   "codemirror_mode": {
    "name": "ipython",
    "version": 3
   },
   "file_extension": ".py",
   "mimetype": "text/x-python",
   "name": "python",
   "nbconvert_exporter": "python",
   "pygments_lexer": "ipython3",
   "version": "3.6.3"
  }
 },
 "nbformat": 4,
 "nbformat_minor": 2
}
