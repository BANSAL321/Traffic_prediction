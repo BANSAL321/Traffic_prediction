{
 "cells": [
  {
   "cell_type": "code",
   "execution_count": 1,
   "metadata": {},
   "outputs": [
    {
     "name": "stdout",
     "output_type": "stream",
     "text": [
      "heLlo\n"
     ]
    }
   ],
   "source": [
    "# @ written by shubham bansal:\n",
    "import pandas as pd\n",
    "import  numpy as np\n",
    "import matplotlib.pyplot as plt\n",
    "from sklearn.cluster import DBSCAN\n",
    "#from geopy.distance import great_circle\n",
    "#import pygmaps\n",
    "from scipy.spatial import ConvexHull\n",
    "from datetime import datetime\n",
    "\n",
    "\n",
    "%matplotlib inline\n",
    "\n",
    "print('heLlo')\n"
   ]
  },
  {
   "cell_type": "code",
   "execution_count": null,
   "metadata": {},
   "outputs": [],
   "source": [
    "from glob import glob\n",
    "\n",
    "with open('main.csv', 'a') as singleFile:\n",
    "    for csv in glob('*.csv'):\n",
    "        if csv == 'main.csv':\n",
    "            pass\n",
    "        else:\n",
    "            for line in open(csv, 'r'):\n",
    "                singleFile.write(line)"
   ]
  }
 ],
 "metadata": {
  "kernelspec": {
   "display_name": "Python 3",
   "language": "python",
   "name": "python3"
  },
  "language_info": {
   "codemirror_mode": {
    "name": "ipython",
    "version": 3
   },
   "file_extension": ".py",
   "mimetype": "text/x-python",
   "name": "python",
   "nbconvert_exporter": "python",
   "pygments_lexer": "ipython3",
   "version": "3.6.3"
  }
 },
 "nbformat": 4,
 "nbformat_minor": 2
}
